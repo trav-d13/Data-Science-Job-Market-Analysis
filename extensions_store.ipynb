{
 "cells": [
  {
   "cell_type": "code",
   "execution_count": 1,
   "id": "e1cda6c1",
   "metadata": {},
   "outputs": [],
   "source": [
    "import pandas as pd"
   ]
  },
  {
   "cell_type": "code",
   "execution_count": null,
   "id": "f6ccf0be",
   "metadata": {},
   "outputs": [],
   "source": [
    "## Detected Extensions ##\n",
    "# Generates a dataframe based on the detected extensions and merges it \n",
    "# with the DataFrame df_raw\n",
    "\n",
    "extensions = pd.json_normalize(df_raw.detected_extensions)\n",
    "df_raw.drop(columns=['detected_extensions'], inplace=True)\n",
    "df_raw = pd.concat([df_raw, extensions], axis=1)"
   ]
  },
  {
   "cell_type": "code",
   "execution_count": null,
   "id": "81419a1e",
   "metadata": {},
   "outputs": [],
   "source": [
    "## VALUE MANIPULATION ##\n",
    "# The below method serve to manipulate the extracted extensions in order \n",
    "# to binary encode working from home, and determine the date of posting\n",
    "\n",
    "# Convert work from home into binary encoding\n",
    "df_raw['work_from_home'].replace({True: 1, np.NaN: 0}, inplace=True)\n",
    "\n",
    "# Posted_on conversion to date\n",
    "def date_finder(delta):\n",
    "    current_date = datetime.today()\n",
    "    date_format = '%Y-%m-%d'\n",
    "    if day_key(delta):\n",
    "        delta_days = re.findall(r'\\d+', delta)\n",
    "        delta_days = int(delta_days[0])\n",
    "        posted_date = current_date - timedelta(days=delta_days)\n",
    "        return posted_date.strftime(date_format)\n",
    "    return current_date.strftime(date_format)\n",
    "    \n",
    "def day_key(observed_on_str):\n",
    "    terms = observed_on_str.split()\n",
    "    if 'day' in terms:\n",
    "        return True\n",
    "    return False\n",
    "\n",
    "# Apply date_finder\n",
    "df_raw['posted_at'] = df_raw['posted_at'].apply(date_finder)\n",
    "\n",
    "# Display resulting dataframe\n",
    "df_raw.head(10)"
   ]
  }
 ],
 "metadata": {
  "kernelspec": {
   "display_name": "data_madness",
   "language": "python",
   "name": "data_madness"
  },
  "language_info": {
   "codemirror_mode": {
    "name": "ipython",
    "version": 3
   },
   "file_extension": ".py",
   "mimetype": "text/x-python",
   "name": "python",
   "nbconvert_exporter": "python",
   "pygments_lexer": "ipython3",
   "version": "3.10.9"
  }
 },
 "nbformat": 4,
 "nbformat_minor": 5
}
