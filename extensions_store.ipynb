{
 "cells": [
  {
   "cell_type": "code",
   "execution_count": 1,
   "id": "f12c4810",
   "metadata": {},
   "outputs": [],
   "source": [
    "import pandas as pd"
   ]
  },
  {
   "cell_type": "code",
   "execution_count": null,
   "id": "05a8d157",
   "metadata": {},
   "outputs": [],
   "source": []
  },
  {
   "cell_type": "code",
   "execution_count": null,
   "id": "8b3ed1a0",
   "metadata": {},
   "outputs": [],
   "source": [
    "## Detected Extensions ##\n",
    "# Generates a dataframe based on the detected extensions and merges it \n",
    "# with the DataFrame df_raw\n",
    "\n",
    "extensions = pd.json_normalize(df_raw.detected_extensions)\n",
    "df_raw.drop(columns=['detected_extensions'], inplace=True)\n",
    "df_raw = pd.concat([df_raw, extensions], axis=1)"
   ]
  }
 ],
 "metadata": {
  "kernelspec": {
   "display_name": "data_madness",
   "language": "python",
   "name": "data_madness"
  },
  "language_info": {
   "codemirror_mode": {
    "name": "ipython",
    "version": 3
   },
   "file_extension": ".py",
   "mimetype": "text/x-python",
   "name": "python",
   "nbconvert_exporter": "python",
   "pygments_lexer": "ipython3",
   "version": "3.10.9"
  }
 },
 "nbformat": 4,
 "nbformat_minor": 5
}
