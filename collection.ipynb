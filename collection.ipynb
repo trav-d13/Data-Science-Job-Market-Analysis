{
 "cells": [
  {
   "cell_type": "code",
   "execution_count": 2,
   "id": "f5188fa7",
   "metadata": {},
   "outputs": [],
   "source": [
    "from serpapi import GoogleSearch\n",
    "from dataExtraction import extract\n",
    "from IPython.display import clear_output\n",
    "from pprint import pprint"
   ]
  },
  {
   "cell_type": "code",
   "execution_count": 3,
   "id": "8fbe1284",
   "metadata": {},
   "outputs": [],
   "source": [
    "#########################################################\n",
    "# WARNING!                                              #\n",
    "# Don't run with this API key unless 100% required      #\n",
    "#########################################################\n",
    "\n",
    "# API Key Store\n",
    "# Travis: 7b49b198668e629ad2ea004850f238d18e56e6e6f3ed19a4d71430a670f4ba29\n",
    "# Leon: a50a83b24d1e51c42d6567fb1bd517dadd4d4348957fe3450928060bbb400ada\n",
    "# Konni: \n",
    "# Nicole: ebd5e2d7f66e44eaa6b4cb32c0c0ffa8d82cbc49f1b6dcd286573fcafcf5282d   [DEAD]"
   ]
  },
  {
   "cell_type": "code",
   "execution_count": 30,
   "id": "955e91ad",
   "metadata": {},
   "outputs": [],
   "source": [
    "# Check all of the below \n",
    "\n",
    "api_key = \"7b49b198668e629ad2ea004850f238d18e56e6e6f3ed19a4d71430a670f4ba29\"\n",
    "country = \"cz\" # https://serpapi.com/google-countries\n",
    "\n",
    "start_page = 0                     # If you have conducted one search, but want to get more, set to last result \n",
    "number_of_searches = 30\n",
    "end_page = number_of_searches * 10"
   ]
  },
  {
   "cell_type": "code",
   "execution_count": 31,
   "id": "82380069",
   "metadata": {},
   "outputs": [
    {
     "name": "stdout",
     "output_type": "stream",
     "text": [
      "https://serpapi.com/search\n",
      "{'error': \"Google hasn't returned any results for this query.\",\n",
      " 'search_information': {'jobs_results_state': 'Fully empty'},\n",
      " 'search_metadata': {'created_at': '2023-03-02 13:47:39 UTC',\n",
      "                     'google_jobs_url': 'https://www.google.com/search?q=data+scientist&ibp=htl;jobs&hl=en&gl=cz&start=0',\n",
      "                     'id': '6400a8fbc640d2ade78f89f3',\n",
      "                     'json_endpoint': 'https://serpapi.com/searches/3b5f822ba8d00f0b/6400a8fbc640d2ade78f89f3.json',\n",
      "                     'processed_at': '2023-03-02 13:47:39 UTC',\n",
      "                     'raw_html_file': 'https://serpapi.com/searches/3b5f822ba8d00f0b/6400a8fbc640d2ade78f89f3.html',\n",
      "                     'status': 'Success',\n",
      "                     'total_time_taken': 0.77},\n",
      " 'search_parameters': {'engine': 'google_jobs',\n",
      "                       'gl': 'cz',\n",
      "                       'google_domain': 'google.com',\n",
      "                       'hl': 'en',\n",
      "                       'q': 'data scientist',\n",
      "                       'start': 0}}\n",
      "0 searches completed\n",
      "country: cz\n",
      "start page: 0\n",
      "end page: 0\n"
     ]
    }
   ],
   "source": [
    "current_page = start_page\n",
    "\n",
    "for i in range(start_page, end_page, 10):\n",
    "    params = {\n",
    "        \"engine\": \"google_jobs\",\n",
    "        \"q\": \"data scientist\",\n",
    "        \"hl\": \"en\",\n",
    "        \"api_key\": api_key,\n",
    "        \"gl\": country,\n",
    "        \"start\": i \n",
    "    }\n",
    "\n",
    "    search = GoogleSearch(params)\n",
    "    results = search.get_dict()\n",
    "    \n",
    "    try:\n",
    "        extract(results)\n",
    "    except KeyError:\n",
    "        pprint(results)\n",
    "        break\n",
    "    \n",
    "    clear_output(wait=True)\n",
    "    percent = int((i/end_page) * 100)\n",
    "    current_page = i/10\n",
    "    print(percent*'#', f\" {percent}%\")\n",
    "    \n",
    "print(f\"{current_page - start_page} searches completed\\n\" +\n",
    "f\"country: {country}\\n\" +\n",
    "f\"start page: {start_page}\\n\" +\n",
    "f\"end page: {current_page}\")"
   ]
  },
  {
   "cell_type": "code",
   "execution_count": 19,
   "id": "5fe491c6",
   "metadata": {},
   "outputs": [],
   "source": [
    "# Countries Searched:\n",
    "# Ireland - empty\n",
    "# UK\n",
    "# France\n",
    "# Italy\n",
    "# Spain\n",
    "# Belgium\n",
    "# Netherlands\n",
    "# Germany\n",
    "# Denmark\n",
    "# Luxembourg - empty\n",
    "# Switzerland\n",
    "# Austria\n",
    "# Poland - empty\n",
    "# Czech Republic"
   ]
  },
  {
   "cell_type": "code",
   "execution_count": null,
   "id": "16f19f95",
   "metadata": {},
   "outputs": [],
   "source": []
  }
 ],
 "metadata": {
  "kernelspec": {
   "display_name": "Python 3 (ipykernel)",
   "language": "python",
   "name": "python3"
  },
  "language_info": {
   "codemirror_mode": {
    "name": "ipython",
    "version": 3
   },
   "file_extension": ".py",
   "mimetype": "text/x-python",
   "name": "python",
   "nbconvert_exporter": "python",
   "pygments_lexer": "ipython3",
   "version": "3.10.9"
  }
 },
 "nbformat": 4,
 "nbformat_minor": 5
}
