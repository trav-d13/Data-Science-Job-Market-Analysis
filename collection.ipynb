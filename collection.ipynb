{
 "cells": [
  {
   "cell_type": "code",
   "execution_count": 1,
   "id": "f5188fa7",
   "metadata": {},
   "outputs": [],
   "source": [
    "from serpapi import GoogleSearch\n",
    "from dataExtraction import extract\n",
    "from IPython.display import clear_output\n",
    "from pprint import pprint"
   ]
  },
  {
   "cell_type": "code",
   "execution_count": 2,
   "id": "8fbe1284",
   "metadata": {},
   "outputs": [],
   "source": [
    "#########################################################\n",
    "# WARNING!                                              #\n",
    "# Don't run with this API key unless 100% required      #\n",
    "#########################################################\n",
    "\n",
    "# API Key Store\n",
    "# Travis: 7b49b198668e629ad2ea004850f238d18e56e6e6f3ed19a4d71430a670f4ba29  [DEAD]\n",
    "# Leon: a50a83b24d1e51c42d6567fb1bd517dadd4d4348957fe3450928060bbb400ada  [DEAD]\n",
    "# Konni: f69dfcb654a45b2c1da7b024ebec56337ea4634e63d63765caff2397d2594c12  [DEAD]\n",
    "# Nicole: ebd5e2d7f66e44eaa6b4cb32c0c0ffa8d82cbc49f1b6dcd286573fcafcf5282d   [DEAD]\n",
    "# kaja: 0d2da38c20098b4bcb7af7fa8f1fae6fb32f807012fad24b8c9366599640523c   [DEAD]\n",
    "# Andrew: 6fa403244f8f0d538ea97caefe1f8538759d37eef547598617a43bd841a9fb1e"
   ]
  },
  {
   "cell_type": "code",
   "execution_count": 28,
   "id": "955e91ad",
   "metadata": {},
   "outputs": [],
   "source": [
    "# Check all of the below \n",
    "\n",
    "api_key = \" f69dfcb654a45b2c1da7b024ebec56337ea4634e63d63765caff2397d2594c12\"\n",
    "country = \"ae\" # https://serpapi.com/google-countries\n",
    "\n",
    "start_page = 0                    # If you have conducted one search, but want to get more, set to last result \n",
    "number_of_searches = 30\n",
    "end_page = number_of_searches * 10"
   ]
  },
  {
   "cell_type": "code",
   "execution_count": 29,
   "id": "82380069",
   "metadata": {},
   "outputs": [
    {
     "name": "stdout",
     "output_type": "stream",
     "text": [
      "####################################  36%\n",
      "https://serpapi.com/search\n",
      "{'error': 'Your searches for the month are exhausted. You can upgrade plans on '\n",
      "          'SerpApi.com website.'}\n",
      "11.0 searches completed\n",
      "country: ae\n",
      "start page: 0\n",
      "end page: 11.0\n"
     ]
    }
   ],
   "source": [
    "current_page = start_page\n",
    "\n",
    "for i in range(start_page, end_page, 10):\n",
    "    params = {\n",
    "        \"engine\": \"google_jobs\",\n",
    "        \"q\": \"data scientist\",\n",
    "        \"hl\": \"en\",\n",
    "        \"api_key\": api_key,\n",
    "        \"gl\": country,\n",
    "        \"start\": i \n",
    "    }\n",
    "\n",
    "    search = GoogleSearch(params)\n",
    "    results = search.get_dict()\n",
    "    \n",
    "    try:\n",
    "        extract(results)\n",
    "    except KeyError:\n",
    "        pprint(results)\n",
    "        break\n",
    "    \n",
    "    clear_output(wait=True)\n",
    "    percent = int((i/end_page) * 100)\n",
    "    current_page = i/10\n",
    "    print(percent*'#', f\" {percent}%\")\n",
    "    \n",
    "print(f\"{current_page - start_page} searches completed\\n\" +\n",
    "f\"country: {country}\\n\" +\n",
    "f\"start page: {start_page}\\n\" +\n",
    "f\"end page: {current_page}\")"
   ]
  },
  {
   "cell_type": "code",
   "execution_count": 21,
   "id": "5fe491c6",
   "metadata": {},
   "outputs": [],
   "source": [
    "# Countries Searched:\n",
    "# Ireland - empty\n",
    "# UK\n",
    "# France\n",
    "# Italy\n",
    "# Spain\n",
    "# Belgium\n",
    "# Netherlands\n",
    "# Germany\n",
    "# Denmark\n",
    "# Luxembourg - empty\n",
    "# Switzerland\n",
    "# Austria\n",
    "# Poland - empty\n",
    "# Czech Republic\n",
    "# Canada\n",
    "# US\n",
    "# South Africa\n",
    "# Australia - Empty\n",
    "# New Zealand - Empty\n",
    "# Singapore\n",
    "# United Arab Emirates"
   ]
  },
  {
   "cell_type": "code",
   "execution_count": null,
   "id": "16f19f95",
   "metadata": {},
   "outputs": [],
   "source": []
  }
 ],
 "metadata": {
  "kernelspec": {
   "display_name": "data_madness",
   "language": "python",
   "name": "data_madness"
  },
  "language_info": {
   "codemirror_mode": {
    "name": "ipython",
    "version": 3
   },
   "file_extension": ".py",
   "mimetype": "text/x-python",
   "name": "python",
   "nbconvert_exporter": "python",
   "pygments_lexer": "ipython3",
   "version": "3.10.9"
  }
 },
 "nbformat": 4,
 "nbformat_minor": 5
}
