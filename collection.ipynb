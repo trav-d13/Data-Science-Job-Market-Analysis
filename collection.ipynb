{
 "cells": [
  {
   "cell_type": "code",
   "execution_count": 1,
   "id": "f5188fa7",
   "metadata": {},
   "outputs": [],
   "source": [
    "from serpapi import GoogleSearch\n",
    "from dataExtraction import extract\n",
    "from IPython.display import clear_output\n",
    "from pprint import pprint"
   ]
  },
  {
   "cell_type": "code",
   "execution_count": 2,
   "id": "8fbe1284",
   "metadata": {},
   "outputs": [],
   "source": [
    "#########################################################\n",
    "# WARNING!                                              #\n",
    "# Don't run with this API key unless 100% required      #\n",
    "#########################################################\n",
    "\n",
    "# API Key Store\n",
    "# Travis: 7b49b198668e629ad2ea004850f238d18e56e6e6f3ed19a4d71430a670f4ba29\n",
    "# Leon: a50a83b24d1e51c42d6567fb1bd517dadd4d4348957fe3450928060bbb400ada\n",
    "# Konni: \n",
    "# Nicole: ebd5e2d7f66e44eaa6b4cb32c0c0ffa8d82cbc49f1b6dcd286573fcafcf5282d"
   ]
  },
  {
   "cell_type": "code",
   "execution_count": 3,
   "id": "955e91ad",
   "metadata": {},
   "outputs": [],
   "source": [
    "# Check all of the below \n",
    "\n",
    "api_key = \"a50a83b24d1e51c42d6567fb1bd517dadd4d4348957fe3450928060bbb400ada\"\n",
    "country = \"de\" # https://serpapi.com/google-countries\n",
    "location = \"Germany\" # Word form of the above\n",
    "\n",
    "start_page = 0                     # If you have conducted one search, but want to get more, set to last result \n",
    "number_of_searches = 40\n",
    "end_page = number_of_searches * 10"
   ]
  },
  {
   "cell_type": "code",
   "execution_count": null,
   "id": "82380069",
   "metadata": {},
   "outputs": [
    {
     "name": "stdout",
     "output_type": "stream",
     "text": [
      "########################################################################  72%\n",
      "https://serpapi.com/search\n"
     ]
    }
   ],
   "source": [
    "for i in range(start_page, end_page, 10):\n",
    "    params = {\n",
    "        \"engine\": \"google_jobs\",\n",
    "        \"q\": \"data scientist\",\n",
    "        \"hl\": \"en\",\n",
    "        \"api_key\": api_key,\n",
    "        \"gl\": country,\n",
    "        \"location\": location,\n",
    "        \"start\": i \n",
    "    }\n",
    "\n",
    "    search = GoogleSearch(params)\n",
    "    results = search.get_dict()\n",
    "    \n",
    "    try:\n",
    "        extract(results)\n",
    "    except KeyError:\n",
    "        pprint(results)\n",
    "        break\n",
    "    \n",
    "    clear_output(wait=True)\n",
    "    percent = int((i/end_page) * 100)\n",
    "    print(percent*'#', f\" {percent}%\")\n",
    "    \n",
    "print(f\"{number_of_searches} searches completed\\n\" +\n",
    "f\"country: {country}\\n\" +\n",
    "f\"start page: {start_page}\\n\" +\n",
    "f\"end page: {end_page}\")"
   ]
  },
  {
   "cell_type": "code",
   "execution_count": null,
   "id": "5fe491c6",
   "metadata": {},
   "outputs": [],
   "source": []
  }
 ],
 "metadata": {
  "kernelspec": {
   "display_name": "Python 3 (ipykernel)",
   "language": "python",
   "name": "python3"
  },
  "language_info": {
   "codemirror_mode": {
    "name": "ipython",
    "version": 3
   },
   "file_extension": ".py",
   "mimetype": "text/x-python",
   "name": "python",
   "nbconvert_exporter": "python",
   "pygments_lexer": "ipython3",
   "version": "3.10.9"
  }
 },
 "nbformat": 4,
 "nbformat_minor": 5
}
