{
 "cells": [
  {
   "cell_type": "code",
   "execution_count": 1,
   "id": "f5188fa7",
   "metadata": {},
   "outputs": [],
   "source": [
    "from serpapi import GoogleSearch\n",
    "from dataExtraction import extract\n",
    "from IPython.display import clear_output\n",
    "from pprint import pprint"
   ]
  },
  {
   "cell_type": "markdown",
   "id": "392c9b7f",
   "metadata": {},
   "source": [
    "### SerpAPI Keys"
   ]
  },
  {
   "cell_type": "code",
   "execution_count": 2,
   "id": "8fbe1284",
   "metadata": {},
   "outputs": [],
   "source": [
    "#########################################################\n",
    "# WARNING!                                              #\n",
    "# Don't run with this API key unless 100% required      #\n",
    "#########################################################\n",
    "\n",
    "# API Key Store\n",
    "# Travis: 7b49b198668e629ad2ea004850f238d18e56e6e6f3ed19a4d71430a670f4ba29  [DEAD]\n",
    "# Leon: a50a83b24d1e51c42d6567fb1bd517dadd4d4348957fe3450928060bbb400ada  [DEAD]\n",
    "# Konni: f69dfcb654a45b2c1da7b024ebec56337ea4634e63d63765caff2397d2594c12  [DEAD]\n",
    "# Nicole: ebd5e2d7f66e44eaa6b4cb32c0c0ffa8d82cbc49f1b6dcd286573fcafcf5282d   [DEAD]\n",
    "# kaja: 0d2da38c20098b4bcb7af7fa8f1fae6fb32f807012fad24b8c9366599640523c   [DEAD]\n",
    "# Andrew: 6fa403244f8f0d538ea97caefe1f8538759d37eef547598617a43bd841a9fb1e  [DEAD]\n",
    "# Rob: c41afdb0e80de1dbaf12c0bb341cacf0c18c6bb24d2b9a358c62d4dd3d090723\n",
    "# Oscar: c0c8182bf2f37f001d2f426cb181980ecaef3c142d603fbb5457a4b9d722acd1\n",
    "# Julia: f941b56f386c029c3599d62d59ed5ddcd1690b3111524da9e5d81fcefbbefa13\n",
    "# Ben: b276b49e8cf3c2a3a80aadf449cdb3fb89388e18ff91f569a987d11cca6a8dd3"
   ]
  },
  {
   "cell_type": "markdown",
   "id": "7a2eebff",
   "metadata": {},
   "source": [
    "## Scraping Specification"
   ]
  },
  {
   "cell_type": "code",
   "execution_count": 19,
   "id": "955e91ad",
   "metadata": {},
   "outputs": [],
   "source": [
    "# Check all of the below \n",
    "\n",
    "api_key = \"c41afdb0e80de1dbaf12c0bb341cacf0c18c6bb24d2b9a358c62d4dd3d090723\"\n",
    "country = \"eg\" # https://serpapi.com/google-countries\n",
    "\n",
    "start_page = 0                    # If you have conducted one search, but want to get more, set to last result \n",
    "number_of_searches = 30\n",
    "end_page = number_of_searches * 10"
   ]
  },
  {
   "cell_type": "markdown",
   "id": "49a9afee",
   "metadata": {},
   "source": [
    "## Scrape and Save"
   ]
  },
  {
   "cell_type": "code",
   "execution_count": null,
   "id": "82380069",
   "metadata": {},
   "outputs": [
    {
     "name": "stdout",
     "output_type": "stream",
     "text": [
      "##################################################################  66%\n",
      "https://serpapi.com/search\n"
     ]
    }
   ],
   "source": [
    "current_page = start_page\n",
    "\n",
    "for i in range(start_page, end_page, 10):\n",
    "    params = {\n",
    "        \"engine\": \"google_jobs\",\n",
    "        \"q\": \"data scientist\",\n",
    "        \"hl\": \"en\",\n",
    "        \"api_key\": api_key,\n",
    "        \"gl\": country,\n",
    "        \"start\": i \n",
    "    }\n",
    "\n",
    "    search = GoogleSearch(params)\n",
    "    results = search.get_dict()\n",
    "    \n",
    "    try:\n",
    "        extract(results)\n",
    "    except KeyError:\n",
    "        pprint(results)\n",
    "        break\n",
    "    \n",
    "    clear_output(wait=True)\n",
    "    percent = int((i/end_page) * 100)\n",
    "    current_page = i/10\n",
    "    print(percent*'#', f\" {percent}%\")\n",
    "    \n",
    "print(f\"{current_page - start_page} searches completed\\n\" +\n",
    "f\"country: {country}\\n\" +\n",
    "f\"start page: {start_page}\\n\" +\n",
    "f\"end page: {current_page}\")"
   ]
  },
  {
   "cell_type": "markdown",
   "id": "662418d8",
   "metadata": {},
   "source": [
    "## Countries Searched\n",
    "The below table shows the countries scraped for job listings, the respective SerpAPI country code, and the status of the query."
   ]
  },
  {
   "cell_type": "markdown",
   "id": "99c83772",
   "metadata": {},
   "source": [
    "| Country | Code  | Status  |\n",
    "|---------|-------|---------|\n",
    "| Ireland |   ie  | Empty   |\n",
    "| United Kingdom |   uk  | Scraped   |\n",
    "| France |   fr  | Scraped   |\n",
    "| Italy |   it  | Scraped   |\n",
    "| Spain |   es  | Scraped   |\n",
    "| Belgium |   be  | Scraped   |\n",
    "| Netherlands |   nl  | Scraped   |\n",
    "| Germany |   nl  | Scraped   |\n",
    "| Denmark |   dk  | Scraped   |\n",
    "| Luxembourg |   lu  | Empty   |\n",
    "| Switzerland |   ch  | Scraped   |\n",
    "| Austria |   at  | Scraped   |\n",
    "| Poland |   pl  | Empty   |\n",
    "| Czech Republic |   cz  | Scraped   |\n",
    "| Canada |   ca  | Scraped   |\n",
    "| United States |   us  | Scraped   |\n",
    "| South Africa |   za  | Scraped   |\n",
    "| Australia |   au  | Empty   |\n",
    "| New Zealand |   nz  | Empty   |\n",
    "| Singapore |   sg  | Scraped   |\n",
    "| United Arab Emirates |   ae  | Scraped   |\n",
    "| Brazil |   br  | Scraped   |\n",
    "| India |   in  | Scraped   |\n",
    "| Portugal |   pt  | Scraped   |\n",
    "| Kenya |   ke  | Scraped   |\n",
    "| Norway |   no  | Empty   |\n",
    "| Argentina |   ar  | Scraped   |\n",
    "| Egypt |   eg  | Scraped   |"
   ]
  }
 ],
 "metadata": {
  "kernelspec": {
   "display_name": "data_madness",
   "language": "python",
   "name": "data_madness"
  },
  "language_info": {
   "codemirror_mode": {
    "name": "ipython",
    "version": 3
   },
   "file_extension": ".py",
   "mimetype": "text/x-python",
   "name": "python",
   "nbconvert_exporter": "python",
   "pygments_lexer": "ipython3",
   "version": "3.10.9"
  }
 },
 "nbformat": 4,
 "nbformat_minor": 5
}
