{
 "cells": [
  {
   "cell_type": "markdown",
   "metadata": {},
   "source": [
    "## Feature Extraction\n",
    "This file serves as a prototyping and exploration of feature extraction fromt he scraped Google job listings data. \n",
    "Features include: \n",
    "- Salary"
   ]
  },
  {
   "cell_type": "code",
   "execution_count": 1,
   "metadata": {},
   "outputs": [],
   "source": [
    "import pandas as pd\n",
    "from transformers import pipeline"
   ]
  },
  {
   "cell_type": "markdown",
   "metadata": {
    "collapsed": true
   },
   "source": [
    "### Read in Scraped Data"
   ]
  },
  {
   "cell_type": "code",
   "execution_count": 52,
   "metadata": {},
   "outputs": [
    {
     "data": {
      "text/html": [
       "<div>\n",
       "<style scoped>\n",
       "    .dataframe tbody tr th:only-of-type {\n",
       "        vertical-align: middle;\n",
       "    }\n",
       "\n",
       "    .dataframe tbody tr th {\n",
       "        vertical-align: top;\n",
       "    }\n",
       "\n",
       "    .dataframe thead th {\n",
       "        text-align: right;\n",
       "    }\n",
       "</style>\n",
       "<table border=\"1\" class=\"dataframe\">\n",
       "  <thead>\n",
       "    <tr style=\"text-align: right;\">\n",
       "      <th></th>\n",
       "      <th>title</th>\n",
       "      <th>company_name</th>\n",
       "      <th>location</th>\n",
       "      <th>via</th>\n",
       "      <th>description</th>\n",
       "      <th>job_highlights</th>\n",
       "      <th>detected_extensions</th>\n",
       "      <th>job_id</th>\n",
       "    </tr>\n",
       "  </thead>\n",
       "  <tbody>\n",
       "    <tr>\n",
       "      <th>0</th>\n",
       "      <td>Junior Data Scientist</td>\n",
       "      <td>ING</td>\n",
       "      <td>Amsterdam</td>\n",
       "      <td>ING Careers</td>\n",
       "      <td>As the data driven mindset is more and more em...</td>\n",
       "      <td>['As the data driven mindset is more and more ...</td>\n",
       "      <td>{'posted_at': '6 days ago', 'schedule_type': '...</td>\n",
       "      <td>eyJqb2JfdGl0bGUiOiJKdW5pb3IgRGF0YSBTY2llbnRpc3...</td>\n",
       "    </tr>\n",
       "    <tr>\n",
       "      <th>1</th>\n",
       "      <td>JUNIOR DATA SCIENTIST - Dubai, UAE</td>\n",
       "      <td>Cobblestone Energy</td>\n",
       "      <td>Utrecht</td>\n",
       "      <td>LinkedIn</td>\n",
       "      <td>Location: Dubai, UAE (We provide visa sponsors...</td>\n",
       "      <td>[\"Location: Dubai, UAE (We provide visa sponso...</td>\n",
       "      <td>{'posted_at': '4 hours ago', 'schedule_type': ...</td>\n",
       "      <td>eyJqb2JfdGl0bGUiOiJKVU5JT1IgREFUQSBTQ0lFTlRJU1...</td>\n",
       "    </tr>\n",
       "    <tr>\n",
       "      <th>2</th>\n",
       "      <td>Data Scientist Mobiliteit</td>\n",
       "      <td>TNO</td>\n",
       "      <td>The Hague</td>\n",
       "      <td>TNO</td>\n",
       "      <td>Halen we in Nederland de klimaatdoelen op het ...</td>\n",
       "      <td>['Halen we in Nederland de klimaatdoelen op he...</td>\n",
       "      <td>{'posted_at': '5 days ago', 'schedule_type': '...</td>\n",
       "      <td>eyJqb2JfdGl0bGUiOiJEYXRhIFNjaWVudGlzdCBNb2JpbG...</td>\n",
       "    </tr>\n",
       "    <tr>\n",
       "      <th>3</th>\n",
       "      <td>Data Scientist Real Estate for Catella Investm...</td>\n",
       "      <td>Catella Investment Management Benelux</td>\n",
       "      <td>Maastricht</td>\n",
       "      <td>Limburgvac</td>\n",
       "      <td>As a Data Scientist in the Research &amp; Investme...</td>\n",
       "      <td>['As a Data Scientist in the Research &amp; Invest...</td>\n",
       "      <td>{'posted_at': '20 hours ago', 'schedule_type':...</td>\n",
       "      <td>eyJqb2JfdGl0bGUiOiJEYXRhIFNjaWVudGlzdCBSZWFsIE...</td>\n",
       "    </tr>\n",
       "    <tr>\n",
       "      <th>4</th>\n",
       "      <td>Data Scientist</td>\n",
       "      <td>Effectory</td>\n",
       "      <td>Amsterdam</td>\n",
       "      <td>Effectory Jobs</td>\n",
       "      <td>Improving the working lives of millions of peo...</td>\n",
       "      <td>['Improving the working lives of millions of p...</td>\n",
       "      <td>{'schedule_type': 'Full–time'}</td>\n",
       "      <td>eyJqb2JfdGl0bGUiOiJEYXRhIFNjaWVudGlzdCIsImh0aW...</td>\n",
       "    </tr>\n",
       "  </tbody>\n",
       "</table>\n",
       "</div>"
      ],
      "text/plain": [
       "                                               title  \\\n",
       "0                              Junior Data Scientist   \n",
       "1                 JUNIOR DATA SCIENTIST - Dubai, UAE   \n",
       "2                          Data Scientist Mobiliteit   \n",
       "3  Data Scientist Real Estate for Catella Investm...   \n",
       "4                                     Data Scientist   \n",
       "\n",
       "                            company_name    location              via  \\\n",
       "0                                    ING   Amsterdam      ING Careers   \n",
       "1                     Cobblestone Energy     Utrecht         LinkedIn   \n",
       "2                                    TNO   The Hague              TNO   \n",
       "3  Catella Investment Management Benelux  Maastricht       Limburgvac   \n",
       "4                              Effectory   Amsterdam   Effectory Jobs   \n",
       "\n",
       "                                         description  \\\n",
       "0  As the data driven mindset is more and more em...   \n",
       "1  Location: Dubai, UAE (We provide visa sponsors...   \n",
       "2  Halen we in Nederland de klimaatdoelen op het ...   \n",
       "3  As a Data Scientist in the Research & Investme...   \n",
       "4  Improving the working lives of millions of peo...   \n",
       "\n",
       "                                      job_highlights  \\\n",
       "0  ['As the data driven mindset is more and more ...   \n",
       "1  [\"Location: Dubai, UAE (We provide visa sponso...   \n",
       "2  ['Halen we in Nederland de klimaatdoelen op he...   \n",
       "3  ['As a Data Scientist in the Research & Invest...   \n",
       "4  ['Improving the working lives of millions of p...   \n",
       "\n",
       "                                 detected_extensions  \\\n",
       "0  {'posted_at': '6 days ago', 'schedule_type': '...   \n",
       "1  {'posted_at': '4 hours ago', 'schedule_type': ...   \n",
       "2  {'posted_at': '5 days ago', 'schedule_type': '...   \n",
       "3  {'posted_at': '20 hours ago', 'schedule_type':...   \n",
       "4                     {'schedule_type': 'Full–time'}   \n",
       "\n",
       "                                              job_id  \n",
       "0  eyJqb2JfdGl0bGUiOiJKdW5pb3IgRGF0YSBTY2llbnRpc3...  \n",
       "1  eyJqb2JfdGl0bGUiOiJKVU5JT1IgREFUQSBTQ0lFTlRJU1...  \n",
       "2  eyJqb2JfdGl0bGUiOiJEYXRhIFNjaWVudGlzdCBNb2JpbG...  \n",
       "3  eyJqb2JfdGl0bGUiOiJEYXRhIFNjaWVudGlzdCBSZWFsIE...  \n",
       "4  eyJqb2JfdGl0bGUiOiJEYXRhIFNjaWVudGlzdCIsImh0aW...  "
      ]
     },
     "execution_count": 52,
     "metadata": {},
     "output_type": "execute_result"
    }
   ],
   "source": [
    "df = pd.read_csv('../data.csv')\n",
    "df.head()"
   ]
  },
  {
   "cell_type": "markdown",
   "metadata": {},
   "source": [
    "### Salary Extraction\n",
    "There exist three possibilities of salary formatting within the job listings. \n",
    "1. The job listing will contain no salary information.\n",
    "2. The job listing will contain a salary range. \n",
    "3. The job listing will contain a specified salary value\n",
    "\n",
    "The accumulated salaries are then required to be adjusted into a single currency for comparison."
   ]
  },
  {
   "cell_type": "code",
   "execution_count": 53,
   "metadata": {},
   "outputs": [],
   "source": [
    "## JOB Highlights cleaning ## \n",
    "df['job_highlights'] = df['job_highlights'].replace(r'\\n\\n|\\n•|\\n|\\\\n|\\\\n•|•', '', regex=True)  # Remove new line char\n",
    "df['job_highlights'] = df['job_highlights'].str.slice(2, -2)  # Remove [] and additional \"\" marks"
   ]
  },
  {
   "cell_type": "code",
   "execution_count": null,
   "metadata": {},
   "outputs": [],
   "source": [
    "## NLP Approach using BERT Question and Answer model ## \n",
    "qa_model = pipeline(\"question-answering\", \n",
    "                    model='distilbert-base-cased-distilled-squad') # Define the model \n",
    "\n",
    "question = \"What is the salary or salary range for the job?\"  # Define the quesiton to be answered\n",
    "highlights = df['job_highlights'].head(20).to_list()  # Convert highlights to list of str\n",
    "\n",
    "# Extract salary from highlights and place in salary column\n",
    "df['salary'] = df['job_highlights'].map(lambda x: \"NaN\" if qa_model(question=question, context=x)['score'] < 0.3\n",
    "                                        else qa_model(question=question, context=x)['answer'])\n",
    "print(df.salary[0:50])"
   ]
  }
 ],
 "metadata": {
  "kernelspec": {
   "display_name": "data_madness",
   "language": "python",
   "name": "data_madness"
  },
  "language_info": {
   "codemirror_mode": {
    "name": "ipython",
    "version": 3
   },
   "file_extension": ".py",
   "mimetype": "text/x-python",
   "name": "python",
   "nbconvert_exporter": "python",
   "pygments_lexer": "ipython3",
   "version": "3.10.9"
  }
 },
 "nbformat": 4,
 "nbformat_minor": 1
}
